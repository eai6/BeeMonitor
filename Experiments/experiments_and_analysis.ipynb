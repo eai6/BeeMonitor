{
 "cells": [
  {
   "cell_type": "code",
   "execution_count": 1,
   "metadata": {},
   "outputs": [],
   "source": [
    "import sys\n",
    "import os\n",
    "import pandas as pd\n",
    "import time\n",
    "notebook_dir = os.getcwd()\n",
    "sys.path.append(os.path.join(notebook_dir, '../src'))\n",
    "from BeeMonitor import VideoAnalyzer"
   ]
  },
  {
   "cell_type": "code",
   "execution_count": 2,
   "metadata": {},
   "outputs": [],
   "source": [
    "# Initialize the VideoAnalyzer with the paths to the models and the video dimensions\n",
    "nest_model = '../models/nest_detection_model.pt'\n",
    "tracking_model = '../models/bee_tracking_model.pt'\n",
    "analyzer = VideoAnalyzer(nest_model, tracking_model, 720, 1280)"
   ]
  },
  {
   "cell_type": "code",
   "execution_count": 3,
   "metadata": {},
   "outputs": [],
   "source": [
    "#### load and process csv data from processed videos ###"
   ]
  },
  {
   "cell_type": "code",
   "execution_count": 4,
   "metadata": {},
   "outputs": [
    {
     "data": {
      "text/plain": [
       "['CVPR_Evaluation_Video_Data/mendels_2024-05-08_15_00_00.mp4',\n",
       " 'CVPR_Evaluation_Video_Data/mendels_2024-04-30_09_10_01.mp4',\n",
       " 'CVPR_Evaluation_Video_Data/mendels_2024-05-23_12_40_00.mp4',\n",
       " 'CVPR_Evaluation_Video_Data/mendels_2024-04-30_09_00_00.mp4',\n",
       " 'CVPR_Evaluation_Video_Data/mendels_2024-04-30_09_20_00.mp4',\n",
       " 'CVPR_Evaluation_Video_Data/mendels_2024-05-08_15_30_00.mp4',\n",
       " 'CVPR_Evaluation_Video_Data/mendels_2024-04-30_09_30_00.mp4',\n",
       " 'CVPR_Evaluation_Video_Data/mendels_2024-05-23_12_00_00.mp4',\n",
       " 'CVPR_Evaluation_Video_Data/mendels_2024-05-08_15_50_00.mp4',\n",
       " 'CVPR_Evaluation_Video_Data/mendels_2024-04-30_09_40_01.mp4',\n",
       " 'CVPR_Evaluation_Video_Data/mendels_2024-05-23_18_20_01.mp4']"
      ]
     },
     "execution_count": 4,
     "metadata": {},
     "output_type": "execute_result"
    }
   ],
   "source": [
    "\n",
    "output_folder = \"output\"\n",
    "input_folder = \"CVPR_Evaluation_Video_Data\"\n",
    "\n",
    "videos = os.listdir(input_folder)\n",
    "videos = [os.path.join(input_folder, f) for f in videos if f.endswith('.mp4')]\n",
    "videos"
   ]
  },
  {
   "cell_type": "code",
   "execution_count": 5,
   "metadata": {},
   "outputs": [
    {
     "name": "stdout",
     "output_type": "stream",
     "text": [
      "Processing file CVPR_Evaluation_Video_Data/mendels_2024-05-08_15_00_00.mp4\n",
      "Processing file CVPR_Evaluation_Video_Data/mendels_2024-04-30_09_10_01.mp4\n",
      "Processing file CVPR_Evaluation_Video_Data/mendels_2024-05-23_12_40_00.mp4\n",
      "Processing file CVPR_Evaluation_Video_Data/mendels_2024-04-30_09_00_00.mp4\n",
      "Processing file CVPR_Evaluation_Video_Data/mendels_2024-04-30_09_20_00.mp4\n",
      "Processing file CVPR_Evaluation_Video_Data/mendels_2024-05-08_15_30_00.mp4\n",
      "Processing file CVPR_Evaluation_Video_Data/mendels_2024-04-30_09_30_00.mp4\n",
      "Processing file CVPR_Evaluation_Video_Data/mendels_2024-05-23_12_00_00.mp4\n",
      "Processing file CVPR_Evaluation_Video_Data/mendels_2024-05-08_15_50_00.mp4\n",
      "Processing file CVPR_Evaluation_Video_Data/mendels_2024-04-30_09_40_01.mp4\n",
      "Processing file CVPR_Evaluation_Video_Data/mendels_2024-05-23_18_20_01.mp4\n"
     ]
    }
   ],
   "source": [
    "## Process Videos ###\n",
    "\n",
    "df = pd.DataFrame()\n",
    "import traceback\n",
    "\n",
    "files_not_processed = []\n",
    "for video_path in videos:\n",
    "    try:\n",
    "        print(f\"Processing file {video_path}\")\n",
    "        # record start time\n",
    "        start_time = time.time()\n",
    "\n",
    "        # get the nest coordinates\n",
    "        nest_ids = analyzer.getNestDetection(video_path)\n",
    "        nest = analyzer.processNestDetection(nest_ids)\n",
    "\n",
    "        # get the motion tracking data\n",
    "        df_temp = analyzer.getMotionTracking(video_path, nest['hotel'], output_folder, False)\n",
    "        df_temp.to_csv(os.path.join(output_folder, os.path.basename(video_path).split(\".\")[0] + \"_v10_motion_tracking.csv\"), index=False)\n",
    "\n",
    "        # process the motion tracking data to get the foraging events witht the nest coordinates\n",
    "        events = analyzer.processMotionTracking(df_temp, nest)\n",
    "        events['video'] = os.path.basename(video_path)\n",
    "        processed_events = analyzer.synthesizeCSV(events, os.path.basename(video_path))\n",
    "\n",
    "        # end the time\n",
    "        end_time = time.time()\n",
    "        processing_time = end_time - start_time\n",
    "\n",
    "        # set the processing time for the video file\n",
    "        events['processing_time'] = [processing_time for i in range(len(events))]\n",
    "        \n",
    "        # append the processed data to the dataframe\n",
    "        df = pd.concat([df, events])\n",
    "    except Exception as e:\n",
    "        print(f\"Error processing file {video_path}: {e}\")\n",
    "        traceback.print_exc()\n",
    "        files_not_processed.append(video_path)\n",
    "        continue\n"
   ]
  },
  {
   "cell_type": "code",
   "execution_count": 7,
   "metadata": {},
   "outputs": [],
   "source": [
    "measured = pd.read_csv('../Manual_Foraging_Events_Observation.csv')"
   ]
  },
  {
   "cell_type": "code",
   "execution_count": 8,
   "metadata": {},
   "outputs": [],
   "source": [
    "# load from final csv\n",
    "predicted = df[['action', 'nest', 'frame_number',\"video\",\"timestamp\",\"filename\"]].copy()"
   ]
  },
  {
   "cell_type": "code",
   "execution_count": 9,
   "metadata": {},
   "outputs": [],
   "source": [
    "#predicted = \n",
    "predicted.reset_index(drop=True, inplace=True)"
   ]
  },
  {
   "cell_type": "code",
   "execution_count": 10,
   "metadata": {},
   "outputs": [],
   "source": [
    "predicted['video'] = predicted['video'].apply(lambda x: x.replace('.mp4', ''))"
   ]
  },
  {
   "cell_type": "code",
   "execution_count": 11,
   "metadata": {},
   "outputs": [],
   "source": [
    "predicted['nest'] = predicted['nest'].apply(lambda x: x.split('_')[1])"
   ]
  },
  {
   "cell_type": "code",
   "execution_count": 12,
   "metadata": {},
   "outputs": [],
   "source": [
    "predicted['timestamp'] = predicted['timestamp'].astype(str)\n",
    "predicted['timestamp'] = predicted['timestamp'].apply(lambda x: x.split(' ')[1])"
   ]
  },
  {
   "cell_type": "code",
   "execution_count": 13,
   "metadata": {},
   "outputs": [],
   "source": [
    "measured = measured[['video','action','nest','timestamp']].dropna()"
   ]
  },
  {
   "cell_type": "code",
   "execution_count": 14,
   "metadata": {},
   "outputs": [],
   "source": [
    "from datetime import time\n",
    "def getTimestamp1(txt):\n",
    "    hr, mn, s = txt.split(':')\n",
    "    #return timedelta(hours=int(hr), minutes=int(mn), seconds=int(s))\n",
    "    return time(int(hr), int(mn), int(s))"
   ]
  },
  {
   "cell_type": "code",
   "execution_count": 15,
   "metadata": {},
   "outputs": [],
   "source": [
    "measured['timestamp'] = measured['timestamp'].apply(lambda x: getTimestamp1(x))\n",
    "predicted['timestamp'] = predicted['timestamp'].apply(lambda x: getTimestamp1(x))"
   ]
  },
  {
   "cell_type": "code",
   "execution_count": 16,
   "metadata": {},
   "outputs": [],
   "source": [
    "measured['site'] = measured['video'].apply(lambda x: x.split('_')[0])\n",
    "measured['hour'] = measured['timestamp'].apply(lambda x: x.hour)\n",
    "\n",
    "predicted['site'] = predicted['video'].apply(lambda x: x.split('_')[0])\n",
    "predicted['hour'] = predicted['timestamp'].apply(lambda x: x.hour)"
   ]
  },
  {
   "cell_type": "code",
   "execution_count": 17,
   "metadata": {},
   "outputs": [],
   "source": [
    "# filter measured based on videos in predicted\n",
    "videos = predicted.video.unique().tolist()\n",
    "videos = [v.replace('.mp4', '') for v in videos]\n",
    "measured_temp = measured[measured['video'].isin(videos)]"
   ]
  },
  {
   "cell_type": "code",
   "execution_count": 18,
   "metadata": {},
   "outputs": [
    {
     "data": {
      "text/plain": [
       "300"
      ]
     },
     "execution_count": 18,
     "metadata": {},
     "output_type": "execute_result"
    }
   ],
   "source": [
    "len(measured_temp)"
   ]
  },
  {
   "cell_type": "code",
   "execution_count": 19,
   "metadata": {},
   "outputs": [],
   "source": [
    "measured_temp.reset_index(drop=True, inplace=True)\n",
    "predicted.reset_index(drop=True, inplace=True)"
   ]
  },
  {
   "cell_type": "code",
   "execution_count": 20,
   "metadata": {},
   "outputs": [],
   "source": [
    "# filter site\n",
    "# site = 'mendels'\n",
    "# site = 'natalies'\n",
    "# measured_temp = measured_temp[measured_temp['site'] == site]\n",
    "# measured_temp = measured_temp.reset_index(drop=True)\n",
    "# predicted = predicted[predicted['site'] == site]\n",
    "# predicted = predicted.reset_index(drop=True)"
   ]
  },
  {
   "cell_type": "code",
   "execution_count": 23,
   "metadata": {},
   "outputs": [],
   "source": [
    "class Action:\n",
    "    def __init__(self, action, timestamp, nest, video):\n",
    "        self.action = action\n",
    "        self.timestamp = timestamp\n",
    "        self.nest = int(nest)\n",
    "        self.video = video\n",
    "\n",
    "    def getAction(self):\n",
    "        return self.action\n",
    "    \n",
    "    def getTimestamp(self):\n",
    "        return self.timestamp\n",
    "    \n",
    "    def getNest(self):\n",
    "        return self.nest\n",
    "    \n",
    "    def getVideo(self):\n",
    "        return self.video\n",
    "\n",
    "def getActions(df):\n",
    "    actions = []\n",
    "    for i in range(len(df)):\n",
    "        action = Action(df['action'][i], df['timestamp'][i], df['nest'][i], df['video'][i])\n",
    "        actions.append(action)\n",
    "    return actions\n",
    "\n",
    "from datetime import datetime\n",
    "\n",
    "def time_difference(time1, time2):\n",
    "    # Convert the time strings to datetime objects\n",
    "    date_today = datetime.today().date()\n",
    "    datetime1 = datetime.combine(date_today, time1)\n",
    "    datetime2 = datetime.combine(date_today, time2)\n",
    "\n",
    "    # Calculate the difference\n",
    "    time_difference = datetime1 - datetime2\n",
    "\n",
    "    # Get the difference in seconds\n",
    "    difference_in_seconds = time_difference.total_seconds()\n",
    "\n",
    "    return abs(difference_in_seconds)\n",
    "\n",
    "def isActionInActions(action, actions):\n",
    "    for act in actions:\n",
    "\n",
    "        if action.action == act.action and time_difference(action.timestamp, act.timestamp) < 3 and action.video == act.video and action.nest == act.nest:\n",
    "            return True\n",
    "        \n",
    "    return False"
   ]
  },
  {
   "cell_type": "code",
   "execution_count": 24,
   "metadata": {},
   "outputs": [],
   "source": [
    "measured_actions = getActions(measured_temp)"
   ]
  },
  {
   "cell_type": "code",
   "execution_count": 25,
   "metadata": {},
   "outputs": [],
   "source": [
    "predicted_actions = getActions(predicted)\n"
   ]
  },
  {
   "cell_type": "code",
   "execution_count": 26,
   "metadata": {},
   "outputs": [
    {
     "name": "stdout",
     "output_type": "stream",
     "text": [
      "277\n"
     ]
    }
   ],
   "source": [
    "def calculateTruePositives(measured_actions, predicted_actions):\n",
    "    tp = 0\n",
    "    objs = []\n",
    "    for action in predicted_actions:\n",
    "        if isActionInActions(action, measured_actions):\n",
    "            tp += 1\n",
    "            objs.append(action)\n",
    "    return tp, objs\n",
    "\n",
    "tp, tp_obj = calculateTruePositives(measured_actions, predicted_actions)\n",
    "print(tp)"
   ]
  },
  {
   "cell_type": "code",
   "execution_count": 27,
   "metadata": {},
   "outputs": [
    {
     "data": {
      "text/html": [
       "<div>\n",
       "<style scoped>\n",
       "    .dataframe tbody tr th:only-of-type {\n",
       "        vertical-align: middle;\n",
       "    }\n",
       "\n",
       "    .dataframe tbody tr th {\n",
       "        vertical-align: top;\n",
       "    }\n",
       "\n",
       "    .dataframe thead th {\n",
       "        text-align: right;\n",
       "    }\n",
       "</style>\n",
       "<table border=\"1\" class=\"dataframe\">\n",
       "  <thead>\n",
       "    <tr style=\"text-align: right;\">\n",
       "      <th></th>\n",
       "      <th>timestamp</th>\n",
       "      <th>nest</th>\n",
       "      <th>video</th>\n",
       "    </tr>\n",
       "    <tr>\n",
       "      <th>action</th>\n",
       "      <th></th>\n",
       "      <th></th>\n",
       "      <th></th>\n",
       "    </tr>\n",
       "  </thead>\n",
       "  <tbody>\n",
       "    <tr>\n",
       "      <th>Entry</th>\n",
       "      <td>143</td>\n",
       "      <td>143</td>\n",
       "      <td>143</td>\n",
       "    </tr>\n",
       "    <tr>\n",
       "      <th>Exit</th>\n",
       "      <td>134</td>\n",
       "      <td>134</td>\n",
       "      <td>134</td>\n",
       "    </tr>\n",
       "  </tbody>\n",
       "</table>\n",
       "</div>"
      ],
      "text/plain": [
       "        timestamp  nest  video\n",
       "action                        \n",
       "Entry         143   143    143\n",
       "Exit          134   134    134"
      ]
     },
     "execution_count": 27,
     "metadata": {},
     "output_type": "execute_result"
    }
   ],
   "source": [
    "tp_df = pd.DataFrame([obj.__dict__ for obj in tp_obj])\n",
    "tp_df.groupby('action').count()"
   ]
  },
  {
   "cell_type": "code",
   "execution_count": 28,
   "metadata": {},
   "outputs": [
    {
     "name": "stdout",
     "output_type": "stream",
     "text": [
      "79\n"
     ]
    }
   ],
   "source": [
    "def calculateFalsePositives(measured_actions, predicted_actions):\n",
    "    fp = 0\n",
    "    fp_obj = []\n",
    "    for action in predicted_actions:\n",
    "        if not isActionInActions(action, measured_actions):\n",
    "            fp += 1\n",
    "            fp_obj.append(action)\n",
    "    return fp, fp_obj\n",
    "\n",
    "fp, fp_obj = calculateFalsePositives(measured_actions, predicted_actions)\n",
    "print(fp)"
   ]
  },
  {
   "cell_type": "code",
   "execution_count": 29,
   "metadata": {},
   "outputs": [
    {
     "data": {
      "text/html": [
       "<div>\n",
       "<style scoped>\n",
       "    .dataframe tbody tr th:only-of-type {\n",
       "        vertical-align: middle;\n",
       "    }\n",
       "\n",
       "    .dataframe tbody tr th {\n",
       "        vertical-align: top;\n",
       "    }\n",
       "\n",
       "    .dataframe thead th {\n",
       "        text-align: right;\n",
       "    }\n",
       "</style>\n",
       "<table border=\"1\" class=\"dataframe\">\n",
       "  <thead>\n",
       "    <tr style=\"text-align: right;\">\n",
       "      <th></th>\n",
       "      <th>timestamp</th>\n",
       "      <th>nest</th>\n",
       "      <th>video</th>\n",
       "    </tr>\n",
       "    <tr>\n",
       "      <th>action</th>\n",
       "      <th></th>\n",
       "      <th></th>\n",
       "      <th></th>\n",
       "    </tr>\n",
       "  </thead>\n",
       "  <tbody>\n",
       "    <tr>\n",
       "      <th>Entry</th>\n",
       "      <td>39</td>\n",
       "      <td>39</td>\n",
       "      <td>39</td>\n",
       "    </tr>\n",
       "    <tr>\n",
       "      <th>Exit</th>\n",
       "      <td>40</td>\n",
       "      <td>40</td>\n",
       "      <td>40</td>\n",
       "    </tr>\n",
       "  </tbody>\n",
       "</table>\n",
       "</div>"
      ],
      "text/plain": [
       "        timestamp  nest  video\n",
       "action                        \n",
       "Entry          39    39     39\n",
       "Exit           40    40     40"
      ]
     },
     "execution_count": 29,
     "metadata": {},
     "output_type": "execute_result"
    }
   ],
   "source": [
    "fp_df = pd.DataFrame([obj.__dict__ for obj in fp_obj])\n",
    "fp_df.groupby('action').count()"
   ]
  },
  {
   "cell_type": "code",
   "execution_count": 30,
   "metadata": {},
   "outputs": [
    {
     "name": "stdout",
     "output_type": "stream",
     "text": [
      "26\n"
     ]
    }
   ],
   "source": [
    "def calculateFalseNegatives(measured_actions, predicted_actions):\n",
    "    fn = 0\n",
    "    fn_obj = []\n",
    "    for action in measured_actions:\n",
    "        if not isActionInActions(action, predicted_actions):\n",
    "            fn += 1\n",
    "            fn_obj.append(action)\n",
    "    return fn, fn_obj\n",
    "\n",
    "fn, fn_obj = calculateFalseNegatives(measured_actions, predicted_actions)\n",
    "print(fn)"
   ]
  },
  {
   "cell_type": "code",
   "execution_count": 31,
   "metadata": {},
   "outputs": [
    {
     "data": {
      "text/html": [
       "<div>\n",
       "<style scoped>\n",
       "    .dataframe tbody tr th:only-of-type {\n",
       "        vertical-align: middle;\n",
       "    }\n",
       "\n",
       "    .dataframe tbody tr th {\n",
       "        vertical-align: top;\n",
       "    }\n",
       "\n",
       "    .dataframe thead th {\n",
       "        text-align: right;\n",
       "    }\n",
       "</style>\n",
       "<table border=\"1\" class=\"dataframe\">\n",
       "  <thead>\n",
       "    <tr style=\"text-align: right;\">\n",
       "      <th></th>\n",
       "      <th>timestamp</th>\n",
       "      <th>nest</th>\n",
       "      <th>video</th>\n",
       "    </tr>\n",
       "    <tr>\n",
       "      <th>action</th>\n",
       "      <th></th>\n",
       "      <th></th>\n",
       "      <th></th>\n",
       "    </tr>\n",
       "  </thead>\n",
       "  <tbody>\n",
       "    <tr>\n",
       "      <th>Entry</th>\n",
       "      <td>7</td>\n",
       "      <td>7</td>\n",
       "      <td>7</td>\n",
       "    </tr>\n",
       "    <tr>\n",
       "      <th>Exit</th>\n",
       "      <td>19</td>\n",
       "      <td>19</td>\n",
       "      <td>19</td>\n",
       "    </tr>\n",
       "  </tbody>\n",
       "</table>\n",
       "</div>"
      ],
      "text/plain": [
       "        timestamp  nest  video\n",
       "action                        \n",
       "Entry           7     7      7\n",
       "Exit           19    19     19"
      ]
     },
     "execution_count": 31,
     "metadata": {},
     "output_type": "execute_result"
    }
   ],
   "source": [
    "fn_df = pd.DataFrame([obj.__dict__ for obj in fn_obj])\n",
    "fn_df.groupby('action').count()"
   ]
  },
  {
   "cell_type": "code",
   "execution_count": 37,
   "metadata": {},
   "outputs": [],
   "source": [
    "import numpy as np"
   ]
  },
  {
   "cell_type": "code",
   "execution_count": 41,
   "metadata": {},
   "outputs": [
    {
     "data": {
      "text/plain": [
       "0.8067084535638877"
      ]
     },
     "execution_count": 41,
     "metadata": {},
     "output_type": "execute_result"
    }
   ],
   "source": [
    "# overall precision\n",
    "np.mean(tp_df.groupby('video').size() / predicted.groupby('video').size()).tolist()"
   ]
  },
  {
   "cell_type": "code",
   "execution_count": 43,
   "metadata": {},
   "outputs": [
    {
     "data": {
      "text/plain": [
       "video\n",
       "mendels_2024-04-30_09_00_00    0.714286\n",
       "mendels_2024-04-30_09_10_01    1.000000\n",
       "mendels_2024-04-30_09_20_00    0.538462\n",
       "mendels_2024-04-30_09_30_00    0.894737\n",
       "mendels_2024-04-30_09_40_01    1.000000\n",
       "mendels_2024-05-08_15_00_00    0.685714\n",
       "mendels_2024-05-08_15_30_00    0.896552\n",
       "mendels_2024-05-08_15_50_00    0.628571\n",
       "mendels_2024-05-23_12_00_00    0.964286\n",
       "mendels_2024-05-23_12_40_00    0.863014\n",
       "mendels_2024-05-23_18_20_01    0.688172\n",
       "dtype: float64"
      ]
     },
     "execution_count": 43,
     "metadata": {},
     "output_type": "execute_result"
    }
   ],
   "source": [
    "# precision per video\n",
    "tp_df.groupby('video').size() / predicted.groupby('video').size()"
   ]
  },
  {
   "cell_type": "code",
   "execution_count": 44,
   "metadata": {},
   "outputs": [
    {
     "data": {
      "text/plain": [
       "video\n",
       "mendels_2024-04-30_09_00_00    1.000000\n",
       "mendels_2024-04-30_09_10_01    0.750000\n",
       "mendels_2024-04-30_09_20_00    0.777778\n",
       "mendels_2024-04-30_09_30_00    0.944444\n",
       "mendels_2024-04-30_09_40_01    1.000000\n",
       "mendels_2024-05-08_15_00_00    1.043478\n",
       "mendels_2024-05-08_15_30_00    1.000000\n",
       "mendels_2024-05-08_15_50_00    0.956522\n",
       "mendels_2024-05-23_12_00_00    1.000000\n",
       "mendels_2024-05-23_12_40_00    0.954545\n",
       "mendels_2024-05-23_18_20_01    0.831169\n",
       "dtype: float64"
      ]
     },
     "execution_count": 44,
     "metadata": {},
     "output_type": "execute_result"
    }
   ],
   "source": [
    "# recall per video\n",
    "tp_df.groupby('video').size() / measured_temp.groupby('video').size()"
   ]
  },
  {
   "cell_type": "code",
   "execution_count": 42,
   "metadata": {},
   "outputs": [
    {
     "data": {
      "text/plain": [
       "0.9325396825396826"
      ]
     },
     "execution_count": 42,
     "metadata": {},
     "output_type": "execute_result"
    }
   ],
   "source": [
    "# overall recall\n",
    "np.mean(tp_df.groupby('video').size() / measured_temp.groupby('video').size()).tolist()"
   ]
  }
 ],
 "metadata": {
  "kernelspec": {
   "display_name": "Python 3",
   "language": "python",
   "name": "python3"
  },
  "language_info": {
   "codemirror_mode": {
    "name": "ipython",
    "version": 3
   },
   "file_extension": ".py",
   "mimetype": "text/x-python",
   "name": "python",
   "nbconvert_exporter": "python",
   "pygments_lexer": "ipython3",
   "version": "3.12.5"
  }
 },
 "nbformat": 4,
 "nbformat_minor": 2
}
